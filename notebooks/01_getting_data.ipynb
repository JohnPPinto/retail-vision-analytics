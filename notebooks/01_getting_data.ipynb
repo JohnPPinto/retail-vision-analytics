{
 "cells": [
  {
   "attachments": {},
   "cell_type": "markdown",
   "id": "6ff08723-f4af-4a16-a554-5d46c3a0083d",
   "metadata": {},
   "source": [
    "# Getting Data"
   ]
  },
  {
   "cell_type": "code",
   "execution_count": 3,
   "id": "67485092-ff90-434b-8313-f202ea1ac9bf",
   "metadata": {},
   "outputs": [],
   "source": [
    "import os\n",
    "import urllib3\n",
    "import requests\n",
    "import shutil\n",
    "from tqdm.auto import tqdm\n",
    "from bs4 import BeautifulSoup\n",
    "from io import BytesIO\n",
    "from urllib.request import urlopen\n",
    "from zipfile import ZipFile"
   ]
  },
  {
   "cell_type": "code",
   "execution_count": 4,
   "id": "2f471957-f058-4338-867f-87c370ccb2ea",
   "metadata": {},
   "outputs": [],
   "source": [
    "# Getting all the url for the files\n",
    "url = 'https://homepages.inf.ed.ac.uk/rbf/CAVIARDATA1/'\n",
    "http = urllib3.PoolManager()\n",
    "response = http.request('GET', url)\n",
    "soup = BeautifulSoup(response.data)"
   ]
  },
  {
   "cell_type": "code",
   "execution_count": 5,
   "id": "d7bf191d-bd07-4cb9-8a80-49178d5cd7fa",
   "metadata": {},
   "outputs": [
    {
     "data": {
      "text/plain": [
       "['https://homepages.inf.ed.ac.uk/rbf/CAVIARDATA2/WalkByShop1cor/WalkByShop1cor.mpg',\n",
       " 'https://homepages.inf.ed.ac.uk/rbf/CAVIARDATA2/WalkByShop1front/WalkByShop1front.mpg',\n",
       " 'https://homepages.inf.ed.ac.uk/rbf/CAVIARDATA2/EnterExitCrossingPaths1cor/EnterExitCrossingPaths1cor.mpg',\n",
       " 'https://homepages.inf.ed.ac.uk/rbf/CAVIARDATA2/EnterExitCrossingPaths1front/EnterExitCrossingPaths1front.mpg',\n",
       " 'https://homepages.inf.ed.ac.uk/rbf/CAVIARDATA2/EnterExitCrossingPaths2cor/EnterExitCrossingPaths2cor.mpg',\n",
       " 'https://homepages.inf.ed.ac.uk/rbf/CAVIARDATA2/EnterExitCrossingPaths2front/EnterExitCrossingPaths2front.mpg',\n",
       " 'https://homepages.inf.ed.ac.uk/rbf/CAVIARDATA2/OneLeaveShop1cor/OneLeaveShop1cor.mpg',\n",
       " 'https://homepages.inf.ed.ac.uk/rbf/CAVIARDATA2/OneLeaveShop1front/OneLeaveShop1front.mpg',\n",
       " 'https://homepages.inf.ed.ac.uk/rbf/CAVIARDATA2/OneLeaveShop2cor/OneLeaveShop2cor.mpg',\n",
       " 'https://homepages.inf.ed.ac.uk/rbf/CAVIARDATA2/OneLeaveShop2front/OneLeaveShop2front.mpg',\n",
       " 'https://homepages.inf.ed.ac.uk/rbf/CAVIARDATA2/OneLeaveShopReenter1cor/OneLeaveShopReenter1cor.mpg',\n",
       " 'https://homepages.inf.ed.ac.uk/rbf/CAVIARDATA2/OneLeaveShopReenter1front/OneLeaveShopReenter1front.mpg',\n",
       " 'https://homepages.inf.ed.ac.uk/rbf/CAVIARDATA2/OneLeaveShopReenter2cor/OneLeaveShopReenter2cor.mpg',\n",
       " 'https://homepages.inf.ed.ac.uk/rbf/CAVIARDATA2/OneLeaveShopReenter2front/OneLeaveShopReenter2front.mpg',\n",
       " 'https://homepages.inf.ed.ac.uk/rbf/CAVIARDATA2/OneShopOneWait1cor/OneShopOneWait1cor.mpg',\n",
       " 'https://homepages.inf.ed.ac.uk/rbf/CAVIARDATA2/OneShopOneWait1front/OneShopOneWait1front.mpg',\n",
       " 'https://homepages.inf.ed.ac.uk/rbf/CAVIARDATA2/OneShopOneWait2cor/OneShopOneWait2cor.mpg',\n",
       " 'https://homepages.inf.ed.ac.uk/rbf/CAVIARDATA2/OneShopOneWait2front/OneShopOneWait2front.mpg',\n",
       " 'https://homepages.inf.ed.ac.uk/rbf/CAVIARDATA2/OneStopEnter1cor/OneStopEnter1cor.mpg',\n",
       " 'https://homepages.inf.ed.ac.uk/rbf/CAVIARDATA2/OneStopEnter1front/OneStopEnter1front.mpg',\n",
       " 'https://homepages.inf.ed.ac.uk/rbf/CAVIARDATA2/OneStopEnter2cor/OneStopEnter2cor.mpg',\n",
       " 'https://homepages.inf.ed.ac.uk/rbf/CAVIARDATA2/OneStopEnter2front/OneStopEnter2front.mpg',\n",
       " 'https://homepages.inf.ed.ac.uk/rbf/CAVIARDATA2/OneStopMoveEnter1cor/OneStopMoveEnter1cor.mpg',\n",
       " 'https://homepages.inf.ed.ac.uk/rbf/CAVIARDATA2/OneStopMoveEnter1front/OneStopMoveEnter1front.mpg',\n",
       " 'https://homepages.inf.ed.ac.uk/rbf/CAVIARDATA2/OneStopMoveEnter2cor/OneStopMoveEnter2cor.mpg',\n",
       " 'https://homepages.inf.ed.ac.uk/rbf/CAVIARDATA2/OneStopMoveEnter2front/OneStopMoveEnter2front.mpg',\n",
       " 'https://homepages.inf.ed.ac.uk/rbf/CAVIARDATA2/OneStopMoveNoEnter1cor/OneStopMoveNoEnter1cor.mpg',\n",
       " 'https://homepages.inf.ed.ac.uk/rbf/CAVIARDATA2/OneStopMoveNoEnter1front/OneStopMoveNoEnter1front.mpg',\n",
       " 'https://homepages.inf.ed.ac.uk/rbf/CAVIARDATA2/OneStopMoveNoEnter2cor/OneStopMoveNoEnter2cor.mpg',\n",
       " 'https://homepages.inf.ed.ac.uk/rbf/CAVIARDATA2/OneStopMoveNoEnter2front/OneStopMoveNoEnter2front.mpg',\n",
       " 'https://homepages.inf.ed.ac.uk/rbf/CAVIARDATA2/OneStopNoEnter1cor/OneStopNoEnter1cor.mpg',\n",
       " 'https://homepages.inf.ed.ac.uk/rbf/CAVIARDATA2/OneStopNoEnter1front/OneStopNoEnter1front.mpg',\n",
       " 'https://homepages.inf.ed.ac.uk/rbf/CAVIARDATA2/OneStopNoEnter2cor/OneStopNoEnter2cor.mpg',\n",
       " 'https://homepages.inf.ed.ac.uk/rbf/CAVIARDATA2/OneStopNoEnter2front/OneStopNoEnter2front.mpg',\n",
       " 'https://homepages.inf.ed.ac.uk/rbf/CAVIARDATA2/ShopAssistant1cor/ShopAssistant1cor.mpg',\n",
       " 'https://homepages.inf.ed.ac.uk/rbf/CAVIARDATA2/ShopAssistant1front/ShopAssistant1front.mpg',\n",
       " 'https://homepages.inf.ed.ac.uk/rbf/CAVIARDATA2/ShopAssistant2cor/ShopAssistant2cor.mpg',\n",
       " 'https://homepages.inf.ed.ac.uk/rbf/CAVIARDATA2/ShopAssistant2front/ShopAssistant2front.mpg',\n",
       " 'https://homepages.inf.ed.ac.uk/rbf/CAVIARDATA2/ThreePastShop1cor/ThreePastShop1cor.mpg',\n",
       " 'https://homepages.inf.ed.ac.uk/rbf/CAVIARDATA2/ThreePastShop1front/ThreePastShop1front.mpg',\n",
       " 'https://homepages.inf.ed.ac.uk/rbf/CAVIARDATA2/ThreePastShop2cor/ThreePastShop2cor.mpg',\n",
       " 'https://homepages.inf.ed.ac.uk/rbf/CAVIARDATA2/ThreePastShop2front/ThreePastShop2front.mpg',\n",
       " 'https://homepages.inf.ed.ac.uk/rbf/CAVIARDATA2/TwoEnterShop1cor/TwoEnterShop1cor.mpg',\n",
       " 'https://homepages.inf.ed.ac.uk/rbf/CAVIARDATA2/TwoEnterShop1front/TwoEnterShop1front.mpg',\n",
       " 'https://homepages.inf.ed.ac.uk/rbf/CAVIARDATA2/TwoEnterShop2cor/TwoEnterShop2cor.mpg',\n",
       " 'https://homepages.inf.ed.ac.uk/rbf/CAVIARDATA2/TwoEnterShop2front/TwoEnterShop2front.mpg',\n",
       " 'https://homepages.inf.ed.ac.uk/rbf/CAVIARDATA2/TwoEnterShop3cor/TwoEnterShop3cor.mpg',\n",
       " 'https://homepages.inf.ed.ac.uk/rbf/CAVIARDATA2/TwoEnterShop3front/TwoEnterShop3front.mpg',\n",
       " 'https://homepages.inf.ed.ac.uk/rbf/CAVIARDATA2/TwoLeaveShop1cor/TwoLeaveShop1cor.mpg',\n",
       " 'https://homepages.inf.ed.ac.uk/rbf/CAVIARDATA2/TwoLeaveShop1front/TwoLeaveShop1front.mpg',\n",
       " 'https://homepages.inf.ed.ac.uk/rbf/CAVIARDATA2/TwoLeaveShop2cor/TwoLeaveShop2cor.mpg',\n",
       " 'https://homepages.inf.ed.ac.uk/rbf/CAVIARDATA2/TwoLeaveShop2front/TwoLeaveShop2front.mpg']"
      ]
     },
     "execution_count": 5,
     "metadata": {},
     "output_type": "execute_result"
    }
   ],
   "source": [
    "# Getting the video urls\n",
    "video_url_list = []\n",
    "for link in soup.find_all('a'):\n",
    "    if link.get('href').startswith('..') and link.get('href').endswith('mpg'):\n",
    "        video_url_list.append(os.path.join(url.replace('1', '2') ,link.get('href').replace('../CAVIARDATA2/', '')))\n",
    "video_url_list"
   ]
  },
  {
   "cell_type": "code",
   "execution_count": 6,
   "id": "babb8ff4-c605-46ed-9691-fc81f76f049b",
   "metadata": {},
   "outputs": [
    {
     "data": {
      "text/plain": [
       "['https://homepages.inf.ed.ac.uk/rbf/CAVIARDATA2/WalkByShop1cor/WalkByShop1cor.tar.gz',\n",
       " 'https://homepages.inf.ed.ac.uk/rbf/CAVIARDATA2/WalkByShop1front/WalkByShop1front.tar.gz',\n",
       " 'https://homepages.inf.ed.ac.uk/rbf/CAVIARDATA2/EnterExitCrossingPaths1cor/EnterExitCrossingPaths1cor.tar.gz',\n",
       " 'https://homepages.inf.ed.ac.uk/rbf/CAVIARDATA2/EnterExitCrossingPaths1front/EnterExitCrossingPaths1front.tar.gz',\n",
       " 'https://homepages.inf.ed.ac.uk/rbf/CAVIARDATA2/EnterExitCrossingPaths2cor/EnterExitCrossingPaths2cor.tar.gz',\n",
       " 'https://homepages.inf.ed.ac.uk/rbf/CAVIARDATA2/EnterExitCrossingPaths2front/EnterExitCrossingPaths2front.tar.gz',\n",
       " 'https://homepages.inf.ed.ac.uk/rbf/CAVIARDATA2/OneLeaveShop1cor/OneLeaveShop1cor.tar.gz',\n",
       " 'https://homepages.inf.ed.ac.uk/rbf/CAVIARDATA2/OneLeaveShop1front/OneLeaveShop1front.tar.gz',\n",
       " 'https://homepages.inf.ed.ac.uk/rbf/CAVIARDATA2/OneLeaveShop2cor/OneLeaveShop2cor.tar.gz',\n",
       " 'https://homepages.inf.ed.ac.uk/rbf/CAVIARDATA2/OneLeaveShop2front/OneLeaveShop2front.tar.gz',\n",
       " 'https://homepages.inf.ed.ac.uk/rbf/CAVIARDATA2/OneLeaveShopReenter1cor/OneLeaveShopReenter1cor.tar.gz',\n",
       " 'https://homepages.inf.ed.ac.uk/rbf/CAVIARDATA2/OneLeaveShopReenter1front/OneLeaveShopReenter1front.tar.gz',\n",
       " 'https://homepages.inf.ed.ac.uk/rbf/CAVIARDATA2/OneLeaveShopReenter2cor/OneLeaveShopReenter2cor.tar.gz',\n",
       " 'https://homepages.inf.ed.ac.uk/rbf/CAVIARDATA2/OneLeaveShopReenter2front/OneLeaveShopReenter2front.tar.gz',\n",
       " 'https://homepages.inf.ed.ac.uk/rbf/CAVIARDATA2/OneShopOneWait1cor/OneShopOneWait1cor.tar.gz',\n",
       " 'https://homepages.inf.ed.ac.uk/rbf/CAVIARDATA2/OneShopOneWait1front/OneShopOneWait1front.tar.gz',\n",
       " 'https://homepages.inf.ed.ac.uk/rbf/CAVIARDATA2/OneShopOneWait2cor/OneShopOneWait2cor.tar.gz',\n",
       " 'https://homepages.inf.ed.ac.uk/rbf/CAVIARDATA2/OneShopOneWait2front/OneShopOneWait2front.tar.gz',\n",
       " 'https://homepages.inf.ed.ac.uk/rbf/CAVIARDATA2/OneStopEnter1cor/OneStopEnter1cor.tar.gz',\n",
       " 'https://homepages.inf.ed.ac.uk/rbf/CAVIARDATA2/OneStopEnter1front/OneStopEnter1front.tar.gz',\n",
       " 'https://homepages.inf.ed.ac.uk/rbf/CAVIARDATA2/OneStopEnter2cor/OneStopEnter2cor.tar.gz',\n",
       " 'https://homepages.inf.ed.ac.uk/rbf/CAVIARDATA2/OneStopEnter2front/OneStopEnter2front.tar.gz',\n",
       " 'https://homepages.inf.ed.ac.uk/rbf/CAVIARDATA2/OneStopMoveEnter1cor/OneStopMoveEnter1cor.tar.gz',\n",
       " 'https://homepages.inf.ed.ac.uk/rbf/CAVIARDATA2/OneStopMoveEnter1front/OneStopMoveEnter1front.tar.gz',\n",
       " 'https://homepages.inf.ed.ac.uk/rbf/CAVIARDATA2/OneStopMoveEnter2cor/OneStopMoveEnter2cor.tar.gz',\n",
       " 'https://homepages.inf.ed.ac.uk/rbf/CAVIARDATA2/OneStopMoveEnter2front/OneStopMoveEnter2front.tar.gz',\n",
       " 'https://homepages.inf.ed.ac.uk/rbf/CAVIARDATA2/OneStopMoveNoEnter1cor/OneStopMoveNoEnter1cor.tar.gz',\n",
       " 'https://homepages.inf.ed.ac.uk/rbf/CAVIARDATA2/OneStopMoveNoEnter1front/OneStopMoveNoEnter1front.tar.gz',\n",
       " 'https://homepages.inf.ed.ac.uk/rbf/CAVIARDATA2/OneStopMoveNoEnter2cor/OneStopMoveNoEnter2cor.tar.gz',\n",
       " 'https://homepages.inf.ed.ac.uk/rbf/CAVIARDATA2/OneStopMoveNoEnter2front/OneStopMoveNoEnter2front.tar.gz',\n",
       " 'https://homepages.inf.ed.ac.uk/rbf/CAVIARDATA2/OneStopNoEnter1cor/OneStopNoEnter1cor.tar.gz',\n",
       " 'https://homepages.inf.ed.ac.uk/rbf/CAVIARDATA2/OneStopNoEnter1front/OneStopNoEnter1front.tar.gz',\n",
       " 'https://homepages.inf.ed.ac.uk/rbf/CAVIARDATA2/OneStopNoEnter2cor/OneStopNoEnter2cor.tar.gz',\n",
       " 'https://homepages.inf.ed.ac.uk/rbf/CAVIARDATA2/OneStopNoEnter2front/OneStopNoEnter2front.tar.gz',\n",
       " 'https://homepages.inf.ed.ac.uk/rbf/CAVIARDATA2/ShopAssistant1cor/ShopAssistant1cor.tar.gz',\n",
       " 'https://homepages.inf.ed.ac.uk/rbf/CAVIARDATA2/ShopAssistant1front/ShopAssistant1front.tar.gz',\n",
       " 'https://homepages.inf.ed.ac.uk/rbf/CAVIARDATA2/ShopAssistant2cor/ShopAssistant2cor.tar.gz',\n",
       " 'https://homepages.inf.ed.ac.uk/rbf/CAVIARDATA2/ShopAssistant2front/ShopAssistant2front.tar.gz',\n",
       " 'https://homepages.inf.ed.ac.uk/rbf/CAVIARDATA2/ThreePastShop1cor/ThreePastShop1cor.tar.gz',\n",
       " 'https://homepages.inf.ed.ac.uk/rbf/CAVIARDATA2/ThreePastShop1front/ThreePastShop1front.tar.gz',\n",
       " 'https://homepages.inf.ed.ac.uk/rbf/CAVIARDATA2/ThreePastShop2cor/ThreePastShop2cor.tar.gz',\n",
       " 'https://homepages.inf.ed.ac.uk/rbf/CAVIARDATA2/ThreePastShop2front/ThreePastShop2front.tar.gz',\n",
       " 'https://homepages.inf.ed.ac.uk/rbf/CAVIARDATA2/TwoEnterShop1cor/TwoEnterShop1cor.tar.gz',\n",
       " 'https://homepages.inf.ed.ac.uk/rbf/CAVIARDATA2/TwoEnterShop1front/TwoEnterShop1front.tar.gz',\n",
       " 'https://homepages.inf.ed.ac.uk/rbf/CAVIARDATA2/TwoEnterShop2cor/TwoEnterShop2cor.tar.gz',\n",
       " 'https://homepages.inf.ed.ac.uk/rbf/CAVIARDATA2/TwoEnterShop2front/TwoEnterShop2front.tar.gz',\n",
       " 'https://homepages.inf.ed.ac.uk/rbf/CAVIARDATA2/TwoEnterShop3cor/TwoEnterShop3cor.tar.gz',\n",
       " 'https://homepages.inf.ed.ac.uk/rbf/CAVIARDATA2/TwoEnterShop3front/TwoEnterShop3front.tar.gz',\n",
       " 'https://homepages.inf.ed.ac.uk/rbf/CAVIARDATA2/TwoLeaveShop1cor/TwoLeaveShop1cor.tar.gz',\n",
       " 'https://homepages.inf.ed.ac.uk/rbf/CAVIARDATA2/TwoLeaveShop1front/TwoLeaveShop1front.tar.gz',\n",
       " 'https://homepages.inf.ed.ac.uk/rbf/CAVIARDATA2/TwoLeaveShop2cor/TwoLeaveShop2cor.tar.gz',\n",
       " 'https://homepages.inf.ed.ac.uk/rbf/CAVIARDATA2/TwoLeaveShop2front/TwoLeaveShop2front.tar.gz']"
      ]
     },
     "execution_count": 6,
     "metadata": {},
     "output_type": "execute_result"
    }
   ],
   "source": [
    "# Getting the images urls\n",
    "image_url_list = []\n",
    "for link in soup.find_all('a'):\n",
    "    if link.get('href').startswith('..') and link.get('href').endswith('gz'):\n",
    "        image_url_list.append(os.path.join(url.replace('1', '2') ,link.get('href').replace('../CAVIARDATA2/', '')))\n",
    "image_url_list"
   ]
  },
  {
   "attachments": {},
   "cell_type": "markdown",
   "id": "63da8f55-4bc0-4c97-b4b6-91cd7efb154a",
   "metadata": {},
   "source": [
    "## Downloading the Data"
   ]
  },
  {
   "cell_type": "code",
   "execution_count": 7,
   "id": "85a2e6f6-8ce4-4dfe-ab45-8bba8bd0d136",
   "metadata": {},
   "outputs": [],
   "source": [
    "videos_dir = 'raw_data/videos'\n",
    "images_dir = 'raw_data/images'\n",
    "\n",
    "if not os.path.exists(videos_dir):\n",
    "    os.makedirs(videos_dir)\n",
    "\n",
    "if not os.path.exists(images_dir):\n",
    "    os.makedirs(images_dir)"
   ]
  },
  {
   "cell_type": "code",
   "execution_count": 9,
   "id": "dc2e5218-034b-470a-b958-9d00f2ca0e18",
   "metadata": {},
   "outputs": [
    {
     "data": {
      "application/vnd.jupyter.widget-view+json": {
       "model_id": "6c0b5b96fb1d49a6a4043b99a1032b76",
       "version_major": 2,
       "version_minor": 0
      },
      "text/plain": [
       "  0%|          | 0/52 [00:00<?, ?it/s]"
      ]
     },
     "metadata": {},
     "output_type": "display_data"
    },
    {
     "name": "stdout",
     "output_type": "stream",
     "text": [
      "[INFO] All the video files are downloaded\n"
     ]
    }
   ],
   "source": [
    "# Downloading the video data\n",
    "for path in tqdm(video_url_list):\n",
    "    response = requests.get(url=path)\n",
    "    filename = path.split('/')[-1]\n",
    "    open(os.path.join(videos_dir, filename), 'wb').write(response.content)\n",
    "print('[INFO] All the video files are downloaded')"
   ]
  },
  {
   "cell_type": "code",
   "execution_count": 10,
   "id": "8819681f-08f3-4534-b349-e4068f63c4cf",
   "metadata": {},
   "outputs": [
    {
     "data": {
      "application/vnd.jupyter.widget-view+json": {
       "model_id": "224fdc1d185a4c53b8471e56447604b4",
       "version_major": 2,
       "version_minor": 0
      },
      "text/plain": [
       "  0%|          | 0/52 [00:00<?, ?it/s]"
      ]
     },
     "metadata": {},
     "output_type": "display_data"
    },
    {
     "name": "stdout",
     "output_type": "stream",
     "text": [
      "[INFO] All the Image files are downloaded and extracted.\n"
     ]
    }
   ],
   "source": [
    "# Creating a temp file\n",
    "temp_dir = 'raw_data/temp'\n",
    "if not os.path.exists(temp_dir):\n",
    "    os.makedirs(temp_dir)\n",
    "\n",
    "# Downloading and extracting the images data\n",
    "for path in tqdm(image_url_list):\n",
    "    response = requests.get(url=path)\n",
    "    filename = os.path.join(temp_dir, path.split('/')[-1])\n",
    "    open(filename, 'wb').write(response.content)\n",
    "    shutil.unpack_archive(filename, images_dir)\n",
    "print('[INFO] All the Image files are downloaded and extracted.')"
   ]
  },
  {
   "cell_type": "code",
   "execution_count": 11,
   "id": "8c3d2866-84b3-42fb-b8f1-152bdae0bdbf",
   "metadata": {},
   "outputs": [
    {
     "name": "stdout",
     "output_type": "stream",
     "text": [
      "[INFO] All the mall data is downloaded and extracted.\n"
     ]
    }
   ],
   "source": [
    "# Downloading mall image dataset\n",
    "mall_data_url = 'http://personal.ie.cuhk.edu.hk/~ccloy/files/datasets/mall_dataset.zip'\n",
    "raw_data_dir = 'raw_data'\n",
    "\n",
    "with urlopen(mall_data_url) as f:\n",
    "    with ZipFile(BytesIO(f.read())) as zfile:\n",
    "        zfile.extractall(raw_data_dir)\n",
    "print('[INFO] All the mall data is downloaded and extracted.')"
   ]
  },
  {
   "cell_type": "code",
   "execution_count": null,
   "id": "2e160d54-64da-4bc6-90b6-e7a059860968",
   "metadata": {},
   "outputs": [],
   "source": []
  }
 ],
 "metadata": {
  "kernelspec": {
   "display_name": "Python 3 (ipykernel)",
   "language": "python",
   "name": "python3"
  },
  "language_info": {
   "codemirror_mode": {
    "name": "ipython",
    "version": 3
   },
   "file_extension": ".py",
   "mimetype": "text/x-python",
   "name": "python",
   "nbconvert_exporter": "python",
   "pygments_lexer": "ipython3",
   "version": "3.9.16"
  }
 },
 "nbformat": 4,
 "nbformat_minor": 5
}
